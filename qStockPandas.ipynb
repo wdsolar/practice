{
 "cells": [
  {
   "cell_type": "code",
   "execution_count": 2,
   "metadata": {},
   "outputs": [],
   "source": [
    "import qstock as qs\n",
    "import pandas as wdspd\n",
    "import time\n",
    "#持有代码\n",
    "hold=['002487','300249','002466','002428','688660','601108','600470',\n",
    "'000591','600984','300581','002092','002436','300137','000830','002463','300409','688223','113629','127070']\n",
    "#持有数量\n",
    "shareDW=wdspd.DataFrame({'持仓':[800,900,4200,36100,13151,8000,0000,11300,7020,\n",
    "1800,3600,2700,4100,1100,1000,500,3450,10,10]})\n",
    "shareHJ=wdspd.DataFrame({'持仓':[0,0,0,3000,0,0,7000,0,0,\n",
    "0,0,0,0,0,0,0,0,0,0]})\n",
    "shareAll=shareDW+shareHJ\n",
    "cashDW=1151.4\n",
    "cashHJ=66.87\n"
   ]
  },
  {
   "cell_type": "code",
   "execution_count": 3,
   "metadata": {},
   "outputs": [],
   "source": [
    "for i in range(1):\n",
    "    #获取行情数据\n",
    "    df=qs.realtime_data(code=hold)\n",
    "\n",
    "    TotalStock=shareAll['持仓']*df['最新']\n",
    "    # temp=(shareDW*df['最新']).sort_values().sum()\n",
    "    TotalDW=(shareDW['持仓']*df['最新']).sum()+cashDW #东吴\n",
    "    TotalHJ=(shareHJ['持仓']*df['最新']).sum()+cashHJ #华金\n",
    "\n",
    "\n",
    "    Total=TotalStock.sum()+cashDW+cashHJ\n",
    "\n",
    "    # df.insert(3,column='持仓',[1,2,3])\n",
    "    df.insert(2,'持仓',shareAll['持仓'])\n",
    "    df.insert(3,'市值',shareAll['持仓']*df['最新'])\n",
    "\n",
    "    # print(df[['名称','市值','最新']])"
   ]
  },
  {
   "cell_type": "code",
   "execution_count": 4,
   "metadata": {},
   "outputs": [
    {
     "name": "stderr",
     "output_type": "stream",
     "text": [
      "c:\\Users\\WDS2022\\AppData\\Local\\Programs\\Python\\Python39\\lib\\site-packages\\qstock\\data\\industry.py:161: FutureWarning: Comparison of Timestamp with datetime.date is deprecated in order to match the standard library behavior. In a future version these will be considered non-comparable. Use 'ts == pd.Timestamp(date)' or 'ts.date() == date' instead.\n",
      "  c1 = pd.to_datetime(start) < df[\"日期\"]\n",
      "c:\\Users\\WDS2022\\AppData\\Local\\Programs\\Python\\Python39\\lib\\site-packages\\qstock\\data\\industry.py:162: FutureWarning: Comparison of Timestamp with datetime.date is deprecated in order to match the standard library behavior. In a future version these will be considered non-comparable. Use 'ts == pd.Timestamp(date)' or 'ts.date() == date' instead.\n",
      "  c2 = pd.to_datetime(end) > df[\"日期\"]\n"
     ]
    }
   ],
   "source": [
    "t=qs.ths_index_data(code='881170')\n",
    "# s=qs.ths_index_data"
   ]
  }
 ],
 "metadata": {
  "kernelspec": {
   "display_name": "Python 3.10.8 64-bit",
   "language": "python",
   "name": "python3"
  },
  "language_info": {
   "name": "python",
   "version": "3.10.8"
  },
  "orig_nbformat": 4,
  "vscode": {
   "interpreter": {
    "hash": "d99a3f7b344b3c3107482760db15f42178bfad658d282ab0a919b76809e13cb5"
   }
  }
 },
 "nbformat": 4,
 "nbformat_minor": 2
}
