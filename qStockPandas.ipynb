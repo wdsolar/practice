{
 "cells": [
  {
   "cell_type": "code",
   "execution_count": 1,
   "metadata": {},
   "outputs": [
    {
     "name": "stdout",
     "output_type": "stream",
     "text": [
      "4420.180000000018\n"
     ]
    }
   ],
   "source": [
    "import qstock as qs\n",
    "import pandas as wdspd\n",
    "import time\n",
    "#持有代码\n",
    "hold=['002487','300249','002466','002428','688660','601108','600470',\n",
    "'000591','600984','300581','002092','002436','300137','000830','002463','300409','688223','113629','127070']\n",
    "#持有数量\n",
    "shareDW=wdspd.DataFrame({'持仓':[800,900,4200,36100,13151,8000,0000,11300,7020,\n",
    "1800,3600,2700,4100,1100,1000,500,3450,10,10]})\n",
    "shareHJ=wdspd.DataFrame({'持仓':[0,0,0,3000,0,0,7000,0,0,\n",
    "0,0,0,0,0,0,0,0,0,0]})\n",
    "shareAll=shareDW+shareHJ\n",
    "cashDW=1151.4\n",
    "cashHJ=66.87\n",
    "\n",
    "for i in range(1):\n",
    "    #获取行情数据\n",
    "    df=qs.realtime_data(code=hold)\n",
    "\n",
    "    TotalStock=shareAll['持仓']*df['最新']\n",
    "    # temp=(shareDW*df['最新']).sort_values().sum()\n",
    "    TotalDW=(shareDW['持仓']*df['最新']).sum()+cashDW #东吴\n",
    "    TotalHJ=(shareHJ['持仓']*df['最新']).sum()+cashHJ #华金\n",
    "\n",
    "\n",
    "    Total=TotalStock.sum()+cashDW+cashHJ\n",
    "\n",
    "    # df.insert(3,column='持仓',[1,2,3])\n",
    "    df.insert(2,'持仓',shareAll['持仓'])\n",
    "    df.insert(3,'市值',shareAll['持仓']*df['最新'])\n",
    "    df.insert(4,'盈亏',shareAll['持仓']*(df['最新']-df['昨收']))\n",
    "\n",
    "    # print(df[['名称','涨幅','市值','盈亏','最新']])\n",
    "    TotalBo=df['盈亏'].sum()\n",
    "    print(TotalBo)\n",
    "\n",
    "    # time.sleep(1)\n"
   ]
  }
 ],
 "metadata": {
  "kernelspec": {
   "display_name": "Python 3.10.8 64-bit",
   "language": "python",
   "name": "python3"
  },
  "language_info": {
   "codemirror_mode": {
    "name": "ipython",
    "version": 3
   },
   "file_extension": ".py",
   "mimetype": "text/x-python",
   "name": "python",
   "nbconvert_exporter": "python",
   "pygments_lexer": "ipython3",
   "version": "3.10.8"
  },
  "orig_nbformat": 4,
  "vscode": {
   "interpreter": {
    "hash": "d99a3f7b344b3c3107482760db15f42178bfad658d282ab0a919b76809e13cb5"
   }
  }
 },
 "nbformat": 4,
 "nbformat_minor": 2
}
