{
 "cells": [
  {
   "cell_type": "code",
   "execution_count": 1,
   "metadata": {},
   "outputs": [],
   "source": [
    "import qstock as qs\n",
    "import pandas as wdspd\n",
    "import time\n",
    "#持有代码\n",
    "hold=['002487','300249','002466','002428','688660','601108','600470',\n",
    "'000591','600984','300581','002092','002436','300137','000830','002463','300409','688223','113629','127070']\n",
    "#持有数量\n",
    "shareDW=wdspd.DataFrame({'持仓':[800,900,4200,36100,13151,8000,0000,11300,7020,\n",
    "1800,3600,2700,4100,1100,1000,500,3450,10,10]})\n",
    "shareHJ=wdspd.DataFrame({'持仓':[0,0,0,3000,0,0,7000,0,0,\n",
    "0,0,0,0,0,0,0,0,0,0]})\n",
    "shareAll=shareDW+shareHJ\n",
    "cashDW=1151.4\n",
    "cashHJ=66.87\n"
   ]
  },
  {
   "cell_type": "code",
   "execution_count": 2,
   "metadata": {},
   "outputs": [
    {
     "name": "stdout",
     "output_type": "stream",
     "text": [
      "      名称         市值       最新\n",
      "0   大金重工   37592.00   46.990\n",
      "1    依米康    7695.00    8.550\n",
      "2   天齐锂业  428064.00  101.920\n",
      "3   云南锗业  398429.00   10.190\n",
      "4   电气风电   94292.67    7.170\n",
      "5   财通证券   56240.00    7.030\n",
      "6   六国化工   45990.00    6.570\n",
      "7    太阳能   81586.00    7.220\n",
      "8   建设机械   35029.80    4.990\n",
      "9   晨曦航空   32508.00   18.060\n",
      "10  中泰化学   24624.00    6.840\n",
      "11  兴森科技   27432.00   10.160\n",
      "12  先河环保   26691.00    6.510\n",
      "13  鲁西化工   14443.00   13.130\n",
      "14  沪电股份   10370.00   10.370\n",
      "15  道氏技术    8645.00   17.290\n",
      "16  晶科能源   61375.50   17.790\n",
      "17  泉峰转债    1387.37  138.737\n",
      "18  大中转债    1163.20  116.320\n"
     ]
    }
   ],
   "source": [
    "for i in range(1):\n",
    "    #获取行情数据\n",
    "    df=qs.realtime_data(code=hold)\n",
    "\n",
    "    TotalStock=shareAll['持仓']*df['最新']\n",
    "    # temp=(shareDW*df['最新']).sort_values().sum()\n",
    "    TotalDW=(shareDW['持仓']*df['最新']).sum()+cashDW #东吴\n",
    "    TotalHJ=(shareHJ['持仓']*df['最新']).sum()+cashHJ #华金\n",
    "\n",
    "\n",
    "    Total=TotalStock.sum()+cashDW+cashHJ\n",
    "\n",
    "    # df.insert(3,column='持仓',[1,2,3])\n",
    "    df.insert(2,'持仓',shareAll['持仓'])\n",
    "    df.insert(3,'市值',shareAll['持仓']*df['最新'])\n",
    "\n",
    "    print(df[['名称','市值','最新']])\n",
    "\n",
    "    time.sleep(1)\n"
   ]
  }
 ],
 "metadata": {
  "kernelspec": {
   "display_name": "Python 3.9.7 64-bit",
   "language": "python",
   "name": "python3"
  },
  "language_info": {
   "codemirror_mode": {
    "name": "ipython",
    "version": 3
   },
   "file_extension": ".py",
   "mimetype": "text/x-python",
   "name": "python",
   "nbconvert_exporter": "python",
   "pygments_lexer": "ipython3",
   "version": "3.9.7"
  },
  "orig_nbformat": 4,
  "vscode": {
   "interpreter": {
    "hash": "e67a811310adfdf44927177fcf7e976d4bed0092255d654900fc30405dc0716e"
   }
  }
 },
 "nbformat": 4,
 "nbformat_minor": 2
}
